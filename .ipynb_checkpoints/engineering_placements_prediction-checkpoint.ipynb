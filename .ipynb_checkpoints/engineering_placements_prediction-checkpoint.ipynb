{
 "cells": [
  {
   "cell_type": "code",
   "execution_count": 1,
   "id": "05741fb2-9da1-4c5e-84e9-0609bcc73891",
   "metadata": {},
   "outputs": [],
   "source": [
    "import pandas as pd"
   ]
  },
  {
   "cell_type": "code",
   "execution_count": 2,
   "id": "ebf479eb-2703-4057-accc-8168bf7c389b",
   "metadata": {},
   "outputs": [],
   "source": [
    "df = pd.read_csv(\"collegePlace.csv\")"
   ]
  },
  {
   "cell_type": "code",
   "execution_count": 3,
   "id": "b6cde64e-489f-4f9a-967a-d58d9e5d1022",
   "metadata": {},
   "outputs": [
    {
     "data": {
      "text/html": [
       "<div>\n",
       "<style scoped>\n",
       "    .dataframe tbody tr th:only-of-type {\n",
       "        vertical-align: middle;\n",
       "    }\n",
       "\n",
       "    .dataframe tbody tr th {\n",
       "        vertical-align: top;\n",
       "    }\n",
       "\n",
       "    .dataframe thead th {\n",
       "        text-align: right;\n",
       "    }\n",
       "</style>\n",
       "<table border=\"1\" class=\"dataframe\">\n",
       "  <thead>\n",
       "    <tr style=\"text-align: right;\">\n",
       "      <th></th>\n",
       "      <th>Age</th>\n",
       "      <th>Gender</th>\n",
       "      <th>Stream</th>\n",
       "      <th>Internships</th>\n",
       "      <th>CGPA</th>\n",
       "      <th>Hostel</th>\n",
       "      <th>HistoryOfBacklogs</th>\n",
       "      <th>PlacedOrNot</th>\n",
       "    </tr>\n",
       "  </thead>\n",
       "  <tbody>\n",
       "    <tr>\n",
       "      <th>0</th>\n",
       "      <td>22</td>\n",
       "      <td>Male</td>\n",
       "      <td>Electronics And Communication</td>\n",
       "      <td>1</td>\n",
       "      <td>8</td>\n",
       "      <td>1</td>\n",
       "      <td>1</td>\n",
       "      <td>1</td>\n",
       "    </tr>\n",
       "    <tr>\n",
       "      <th>1</th>\n",
       "      <td>21</td>\n",
       "      <td>Female</td>\n",
       "      <td>Computer Science</td>\n",
       "      <td>0</td>\n",
       "      <td>7</td>\n",
       "      <td>1</td>\n",
       "      <td>1</td>\n",
       "      <td>1</td>\n",
       "    </tr>\n",
       "    <tr>\n",
       "      <th>2</th>\n",
       "      <td>22</td>\n",
       "      <td>Female</td>\n",
       "      <td>Information Technology</td>\n",
       "      <td>1</td>\n",
       "      <td>6</td>\n",
       "      <td>0</td>\n",
       "      <td>0</td>\n",
       "      <td>1</td>\n",
       "    </tr>\n",
       "    <tr>\n",
       "      <th>3</th>\n",
       "      <td>21</td>\n",
       "      <td>Male</td>\n",
       "      <td>Information Technology</td>\n",
       "      <td>0</td>\n",
       "      <td>8</td>\n",
       "      <td>0</td>\n",
       "      <td>1</td>\n",
       "      <td>1</td>\n",
       "    </tr>\n",
       "    <tr>\n",
       "      <th>4</th>\n",
       "      <td>22</td>\n",
       "      <td>Male</td>\n",
       "      <td>Mechanical</td>\n",
       "      <td>0</td>\n",
       "      <td>8</td>\n",
       "      <td>1</td>\n",
       "      <td>0</td>\n",
       "      <td>1</td>\n",
       "    </tr>\n",
       "    <tr>\n",
       "      <th>...</th>\n",
       "      <td>...</td>\n",
       "      <td>...</td>\n",
       "      <td>...</td>\n",
       "      <td>...</td>\n",
       "      <td>...</td>\n",
       "      <td>...</td>\n",
       "      <td>...</td>\n",
       "      <td>...</td>\n",
       "    </tr>\n",
       "    <tr>\n",
       "      <th>2961</th>\n",
       "      <td>23</td>\n",
       "      <td>Male</td>\n",
       "      <td>Information Technology</td>\n",
       "      <td>0</td>\n",
       "      <td>7</td>\n",
       "      <td>0</td>\n",
       "      <td>0</td>\n",
       "      <td>0</td>\n",
       "    </tr>\n",
       "    <tr>\n",
       "      <th>2962</th>\n",
       "      <td>23</td>\n",
       "      <td>Male</td>\n",
       "      <td>Mechanical</td>\n",
       "      <td>1</td>\n",
       "      <td>7</td>\n",
       "      <td>1</td>\n",
       "      <td>0</td>\n",
       "      <td>0</td>\n",
       "    </tr>\n",
       "    <tr>\n",
       "      <th>2963</th>\n",
       "      <td>22</td>\n",
       "      <td>Male</td>\n",
       "      <td>Information Technology</td>\n",
       "      <td>1</td>\n",
       "      <td>7</td>\n",
       "      <td>0</td>\n",
       "      <td>0</td>\n",
       "      <td>0</td>\n",
       "    </tr>\n",
       "    <tr>\n",
       "      <th>2964</th>\n",
       "      <td>22</td>\n",
       "      <td>Male</td>\n",
       "      <td>Computer Science</td>\n",
       "      <td>1</td>\n",
       "      <td>7</td>\n",
       "      <td>0</td>\n",
       "      <td>0</td>\n",
       "      <td>0</td>\n",
       "    </tr>\n",
       "    <tr>\n",
       "      <th>2965</th>\n",
       "      <td>23</td>\n",
       "      <td>Male</td>\n",
       "      <td>Civil</td>\n",
       "      <td>0</td>\n",
       "      <td>8</td>\n",
       "      <td>0</td>\n",
       "      <td>0</td>\n",
       "      <td>1</td>\n",
       "    </tr>\n",
       "  </tbody>\n",
       "</table>\n",
       "<p>2966 rows × 8 columns</p>\n",
       "</div>"
      ],
      "text/plain": [
       "      Age  Gender                         Stream  Internships  CGPA  Hostel  \\\n",
       "0      22    Male  Electronics And Communication            1     8       1   \n",
       "1      21  Female               Computer Science            0     7       1   \n",
       "2      22  Female         Information Technology            1     6       0   \n",
       "3      21    Male         Information Technology            0     8       0   \n",
       "4      22    Male                     Mechanical            0     8       1   \n",
       "...   ...     ...                            ...          ...   ...     ...   \n",
       "2961   23    Male         Information Technology            0     7       0   \n",
       "2962   23    Male                     Mechanical            1     7       1   \n",
       "2963   22    Male         Information Technology            1     7       0   \n",
       "2964   22    Male               Computer Science            1     7       0   \n",
       "2965   23    Male                          Civil            0     8       0   \n",
       "\n",
       "      HistoryOfBacklogs  PlacedOrNot  \n",
       "0                     1            1  \n",
       "1                     1            1  \n",
       "2                     0            1  \n",
       "3                     1            1  \n",
       "4                     0            1  \n",
       "...                 ...          ...  \n",
       "2961                  0            0  \n",
       "2962                  0            0  \n",
       "2963                  0            0  \n",
       "2964                  0            0  \n",
       "2965                  0            1  \n",
       "\n",
       "[2966 rows x 8 columns]"
      ]
     },
     "execution_count": 3,
     "metadata": {},
     "output_type": "execute_result"
    }
   ],
   "source": [
    "df"
   ]
  },
  {
   "cell_type": "code",
   "execution_count": 4,
   "id": "085c0994-2999-4f06-8dc3-2a006b16cc15",
   "metadata": {},
   "outputs": [
    {
     "data": {
      "text/html": [
       "<div>\n",
       "<style scoped>\n",
       "    .dataframe tbody tr th:only-of-type {\n",
       "        vertical-align: middle;\n",
       "    }\n",
       "\n",
       "    .dataframe tbody tr th {\n",
       "        vertical-align: top;\n",
       "    }\n",
       "\n",
       "    .dataframe thead th {\n",
       "        text-align: right;\n",
       "    }\n",
       "</style>\n",
       "<table border=\"1\" class=\"dataframe\">\n",
       "  <thead>\n",
       "    <tr style=\"text-align: right;\">\n",
       "      <th></th>\n",
       "      <th>count</th>\n",
       "      <th>mean</th>\n",
       "      <th>std</th>\n",
       "      <th>min</th>\n",
       "      <th>25%</th>\n",
       "      <th>50%</th>\n",
       "      <th>75%</th>\n",
       "      <th>max</th>\n",
       "    </tr>\n",
       "  </thead>\n",
       "  <tbody>\n",
       "    <tr>\n",
       "      <th>Age</th>\n",
       "      <td>2966.0</td>\n",
       "      <td>21.485840</td>\n",
       "      <td>1.324933</td>\n",
       "      <td>19.0</td>\n",
       "      <td>21.0</td>\n",
       "      <td>21.0</td>\n",
       "      <td>22.0</td>\n",
       "      <td>30.0</td>\n",
       "    </tr>\n",
       "    <tr>\n",
       "      <th>Internships</th>\n",
       "      <td>2966.0</td>\n",
       "      <td>0.703641</td>\n",
       "      <td>0.740197</td>\n",
       "      <td>0.0</td>\n",
       "      <td>0.0</td>\n",
       "      <td>1.0</td>\n",
       "      <td>1.0</td>\n",
       "      <td>3.0</td>\n",
       "    </tr>\n",
       "    <tr>\n",
       "      <th>CGPA</th>\n",
       "      <td>2966.0</td>\n",
       "      <td>7.073837</td>\n",
       "      <td>0.967748</td>\n",
       "      <td>5.0</td>\n",
       "      <td>6.0</td>\n",
       "      <td>7.0</td>\n",
       "      <td>8.0</td>\n",
       "      <td>9.0</td>\n",
       "    </tr>\n",
       "    <tr>\n",
       "      <th>Hostel</th>\n",
       "      <td>2966.0</td>\n",
       "      <td>0.269049</td>\n",
       "      <td>0.443540</td>\n",
       "      <td>0.0</td>\n",
       "      <td>0.0</td>\n",
       "      <td>0.0</td>\n",
       "      <td>1.0</td>\n",
       "      <td>1.0</td>\n",
       "    </tr>\n",
       "    <tr>\n",
       "      <th>HistoryOfBacklogs</th>\n",
       "      <td>2966.0</td>\n",
       "      <td>0.192178</td>\n",
       "      <td>0.394079</td>\n",
       "      <td>0.0</td>\n",
       "      <td>0.0</td>\n",
       "      <td>0.0</td>\n",
       "      <td>0.0</td>\n",
       "      <td>1.0</td>\n",
       "    </tr>\n",
       "    <tr>\n",
       "      <th>PlacedOrNot</th>\n",
       "      <td>2966.0</td>\n",
       "      <td>0.552596</td>\n",
       "      <td>0.497310</td>\n",
       "      <td>0.0</td>\n",
       "      <td>0.0</td>\n",
       "      <td>1.0</td>\n",
       "      <td>1.0</td>\n",
       "      <td>1.0</td>\n",
       "    </tr>\n",
       "  </tbody>\n",
       "</table>\n",
       "</div>"
      ],
      "text/plain": [
       "                    count       mean       std   min   25%   50%   75%   max\n",
       "Age                2966.0  21.485840  1.324933  19.0  21.0  21.0  22.0  30.0\n",
       "Internships        2966.0   0.703641  0.740197   0.0   0.0   1.0   1.0   3.0\n",
       "CGPA               2966.0   7.073837  0.967748   5.0   6.0   7.0   8.0   9.0\n",
       "Hostel             2966.0   0.269049  0.443540   0.0   0.0   0.0   1.0   1.0\n",
       "HistoryOfBacklogs  2966.0   0.192178  0.394079   0.0   0.0   0.0   0.0   1.0\n",
       "PlacedOrNot        2966.0   0.552596  0.497310   0.0   0.0   1.0   1.0   1.0"
      ]
     },
     "execution_count": 4,
     "metadata": {},
     "output_type": "execute_result"
    }
   ],
   "source": [
    "df.describe().T"
   ]
  },
  {
   "cell_type": "code",
   "execution_count": 5,
   "id": "9df28191-e2dc-49be-8982-7ff9f01ffe69",
   "metadata": {},
   "outputs": [
    {
     "data": {
      "text/plain": [
       "Age\n",
       "21    617\n",
       "22    478\n",
       "20    199\n",
       "24    104\n",
       "19     92\n",
       "23     85\n",
       "26     37\n",
       "25     22\n",
       "28      3\n",
       "29      1\n",
       "30      1\n",
       "Name: PlacedOrNot, dtype: int64"
      ]
     },
     "execution_count": 5,
     "metadata": {},
     "output_type": "execute_result"
    }
   ],
   "source": [
    "df.groupby(\"Age\")[\"PlacedOrNot\"].sum().sort_values(ascending = False)"
   ]
  },
  {
   "cell_type": "code",
   "execution_count": 6,
   "id": "eb5bfaa2-78a0-4d66-89cd-eac36cd0dce1",
   "metadata": {},
   "outputs": [
    {
     "data": {
      "text/plain": [
       "dtype('int64')"
      ]
     },
     "execution_count": 6,
     "metadata": {},
     "output_type": "execute_result"
    }
   ],
   "source": [
    "df[\"Age\"].dtypes"
   ]
  },
  {
   "cell_type": "code",
   "execution_count": 7,
   "id": "ba311e35-d3f6-4d4a-a217-59cc9d09a0da",
   "metadata": {},
   "outputs": [
    {
     "data": {
      "image/png": "[encoded data removed]",
      "text/plain": [
       "<Figure size 720x720 with 1 Axes>"
      ]
     },
     "metadata": {
      "needs_background": "light"
     },
     "output_type": "display_data"
    }
   ],
   "source": [
    "\n",
    "import matplotlib.pyplot as plt\n",
    "import seaborn as sns\n",
    "ages = df.groupby(\"Age\")[\"PlacedOrNot\"].sum().sort_values(ascending = False)\n",
    "student_ages = ages\n",
    "student_ages_df = pd.DataFrame(list(student_ages.items()), columns=['Age', 'PlacedOrNot'])\n",
    "plt.figure(figsize=(10,10))\n",
    "plt.title('Yaşlara Göre Yerleşme Sayısı')\n",
    "sns.barplot(data=student_ages_df, x='Age', y='PlacedOrNot');\n",
    "plt.xlabel('Age', fontsize=20, labelpad=20)\n",
    "plt.ylabel('PlacedOrNot', fontsize=20, labelpad=20);"
   ]
  },
  {
   "cell_type": "code",
   "execution_count": 8,
   "id": "83eea4bb-b66f-4168-a926-a221fceec71d",
   "metadata": {},
   "outputs": [
    {
     "data": {
      "text/plain": [
       "Computer Science                 776\n",
       "Information Technology           691\n",
       "Mechanical                       424\n",
       "Electronics And Communication    424\n",
       "Electrical                       334\n",
       "Civil                            317\n",
       "Name: Stream, dtype: int64"
      ]
     },
     "execution_count": 8,
     "metadata": {},
     "output_type": "execute_result"
    }
   ],
   "source": [
    "#mühendislik bölümleri sayısını inceleyelim\n",
    "df[\"Stream\"].value_counts()"
   ]
  },
  {
   "cell_type": "code",
   "execution_count": 9,
   "id": "e791430a-541b-4fbc-a2f1-7925217061e4",
   "metadata": {},
   "outputs": [
    {
     "data": {
      "text/plain": [
       "Male      2475\n",
       "Female     491\n",
       "Name: Gender, dtype: int64"
      ]
     },
     "execution_count": 9,
     "metadata": {},
     "output_type": "execute_result"
    }
   ],
   "source": [
    "df[\"Gender\"].value_counts()"
   ]
  },
  {
   "cell_type": "code",
   "execution_count": 10,
   "id": "53576512-d2b3-462a-9324-784124d27f32",
   "metadata": {},
   "outputs": [
    {
     "data": {
      "text/html": [
       "<div>\n",
       "<style scoped>\n",
       "    .dataframe tbody tr th:only-of-type {\n",
       "        vertical-align: middle;\n",
       "    }\n",
       "\n",
       "    .dataframe tbody tr th {\n",
       "        vertical-align: top;\n",
       "    }\n",
       "\n",
       "    .dataframe thead th {\n",
       "        text-align: right;\n",
       "    }\n",
       "</style>\n",
       "<table border=\"1\" class=\"dataframe\">\n",
       "  <thead>\n",
       "    <tr style=\"text-align: right;\">\n",
       "      <th></th>\n",
       "      <th></th>\n",
       "      <th></th>\n",
       "      <th>PlacedOrNot</th>\n",
       "    </tr>\n",
       "    <tr>\n",
       "      <th>Gender</th>\n",
       "      <th>Age</th>\n",
       "      <th>Stream</th>\n",
       "      <th></th>\n",
       "    </tr>\n",
       "  </thead>\n",
       "  <tbody>\n",
       "    <tr>\n",
       "      <th rowspan=\"5\" valign=\"top\">Female</th>\n",
       "      <th rowspan=\"5\" valign=\"top\">19</th>\n",
       "      <th>Civil</th>\n",
       "      <td>1</td>\n",
       "    </tr>\n",
       "    <tr>\n",
       "      <th>Computer Science</th>\n",
       "      <td>5</td>\n",
       "    </tr>\n",
       "    <tr>\n",
       "      <th>Electrical</th>\n",
       "      <td>4</td>\n",
       "    </tr>\n",
       "    <tr>\n",
       "      <th>Electronics And Communication</th>\n",
       "      <td>4</td>\n",
       "    </tr>\n",
       "    <tr>\n",
       "      <th>Information Technology</th>\n",
       "      <td>3</td>\n",
       "    </tr>\n",
       "    <tr>\n",
       "      <th>...</th>\n",
       "      <th>...</th>\n",
       "      <th>...</th>\n",
       "      <td>...</td>\n",
       "    </tr>\n",
       "    <tr>\n",
       "      <th rowspan=\"5\" valign=\"top\">Male</th>\n",
       "      <th rowspan=\"2\" valign=\"top\">26</th>\n",
       "      <th>Information Technology</th>\n",
       "      <td>7</td>\n",
       "    </tr>\n",
       "    <tr>\n",
       "      <th>Mechanical</th>\n",
       "      <td>6</td>\n",
       "    </tr>\n",
       "    <tr>\n",
       "      <th rowspan=\"2\" valign=\"top\">28</th>\n",
       "      <th>Civil</th>\n",
       "      <td>1</td>\n",
       "    </tr>\n",
       "    <tr>\n",
       "      <th>Computer Science</th>\n",
       "      <td>1</td>\n",
       "    </tr>\n",
       "    <tr>\n",
       "      <th>30</th>\n",
       "      <th>Computer Science</th>\n",
       "      <td>1</td>\n",
       "    </tr>\n",
       "  </tbody>\n",
       "</table>\n",
       "<p>95 rows × 1 columns</p>\n",
       "</div>"
      ],
      "text/plain": [
       "                                          PlacedOrNot\n",
       "Gender Age Stream                                    \n",
       "Female 19  Civil                                    1\n",
       "           Computer Science                         5\n",
       "           Electrical                               4\n",
       "           Electronics And Communication            4\n",
       "           Information Technology                   3\n",
       "...                                               ...\n",
       "Male   26  Information Technology                   7\n",
       "           Mechanical                               6\n",
       "       28  Civil                                    1\n",
       "           Computer Science                         1\n",
       "       30  Computer Science                         1\n",
       "\n",
       "[95 rows x 1 columns]"
      ]
     },
     "execution_count": 10,
     "metadata": {},
     "output_type": "execute_result"
    }
   ],
   "source": [
    "#kız ve erkeklere göre yaşa bakarak okudukları bölüm ve girenlerin kişi sayısı\n",
    "df.groupby([\"Gender\",\"Age\",\"Stream\"])[[\"PlacedOrNot\"]].count()"
   ]
  },
  {
   "cell_type": "code",
   "execution_count": 11,
   "id": "ff9d385a-a502-4256-8f6d-a30cdbce6556",
   "metadata": {},
   "outputs": [
    {
     "data": {
      "text/plain": [
       "Stream\n",
       "Computer Science                 452\n",
       "Information Technology           409\n",
       "Electronics And Communication    251\n",
       "Mechanical                       200\n",
       "Electrical                       181\n",
       "Civil                            146\n",
       "Name: PlacedOrNot, dtype: int64"
      ]
     },
     "execution_count": 11,
     "metadata": {},
     "output_type": "execute_result"
    }
   ],
   "source": [
    "df.groupby(\"Stream\")[\"PlacedOrNot\"].sum().sort_values(ascending = False)"
   ]
  },
  {
   "cell_type": "code",
   "execution_count": 12,
   "id": "85a84021-9d8d-4c4b-966d-63818f4c07d2",
   "metadata": {},
   "outputs": [
    {
     "data": {
      "image/png": "[encoded data removed]",
      "text/plain": [
       "<Figure size 1368x1080 with 1 Axes>"
      ]
     },
     "metadata": {
      "needs_background": "light"
     },
     "output_type": "display_data"
    }
   ],
   "source": [
    "Streams = df.groupby(\"Stream\")[\"PlacedOrNot\"].sum().sort_values(ascending = False)\n",
    "Streams_place = Streams\n",
    "Streams_df = pd.DataFrame(list(Streams_place.items()), columns=['Stream', 'PlacedOrNot'])\n",
    "plt.figure(figsize=(19,15))\n",
    "plt.title('Bölümlere Göre Yerleşme Sayısı')\n",
    "sns.barplot(data=Streams_df, x='Stream', y='PlacedOrNot');\n",
    "plt.xlabel('Stream', fontsize=20, labelpad=20)\n",
    "plt.ylabel('PlacedOrNot', fontsize=20, labelpad=20);"
   ]
  },
  {
   "cell_type": "code",
   "execution_count": 13,
   "id": "8d3cef89-04f2-4da9-b96e-ae6d211214cb",
   "metadata": {},
   "outputs": [
    {
     "data": {
      "image/png": "[encoded data removed]",
      "text/plain": [
       "<Figure size 360x360 with 1 Axes>"
      ]
     },
     "metadata": {
      "needs_background": "light"
     },
     "output_type": "display_data"
    }
   ],
   "source": [
    "Internshipss = df.groupby(\"Internships\")[\"PlacedOrNot\"].sum().sort_values(ascending = False)\n",
    "Internshipss_place = Internshipss\n",
    "Internshipss_df = pd.DataFrame(list(Internshipss_place.items()), columns=['Internships', 'PlacedOrNot'])\n",
    "plt.figure(figsize=(5,5))\n",
    "plt.title('Staj Yapma Sayısına Göre Yerleşme Sayısı')\n",
    "sns.barplot(data=Internshipss_df, x='Internships', y='PlacedOrNot');\n",
    "plt.xlabel('Internships', fontsize=20, labelpad=20)\n",
    "plt.ylabel('PlacedOrNot', fontsize=20, labelpad=20);"
   ]
  },
  {
   "cell_type": "code",
   "execution_count": 14,
   "id": "d372ad59-4c18-476f-8e2c-eb0f8eb9a869",
   "metadata": {},
   "outputs": [
    {
     "data": {
      "text/plain": [
       "Internships\n",
       "1    662\n",
       "0    654\n",
       "2    282\n",
       "3     41\n",
       "Name: PlacedOrNot, dtype: int64"
      ]
     },
     "execution_count": 14,
     "metadata": {},
     "output_type": "execute_result"
    }
   ],
   "source": [
    "df.groupby(\"Internships\")[\"PlacedOrNot\"].sum().sort_values(ascending = False)"
   ]
  },
  {
   "cell_type": "code",
   "execution_count": 15,
   "id": "85271973-c874-4314-adf0-89fd904d0fdf",
   "metadata": {},
   "outputs": [
    {
     "data": {
      "text/html": [
       "<div>\n",
       "<style scoped>\n",
       "    .dataframe tbody tr th:only-of-type {\n",
       "        vertical-align: middle;\n",
       "    }\n",
       "\n",
       "    .dataframe tbody tr th {\n",
       "        vertical-align: top;\n",
       "    }\n",
       "\n",
       "    .dataframe thead th {\n",
       "        text-align: right;\n",
       "    }\n",
       "</style>\n",
       "<table border=\"1\" class=\"dataframe\">\n",
       "  <thead>\n",
       "    <tr style=\"text-align: right;\">\n",
       "      <th></th>\n",
       "      <th>Variable</th>\n",
       "      <th>Outcome</th>\n",
       "      <th>Count</th>\n",
       "      <th>Percent</th>\n",
       "    </tr>\n",
       "  </thead>\n",
       "  <tbody>\n",
       "    <tr>\n",
       "      <th>0</th>\n",
       "      <td>Age</td>\n",
       "      <td>21</td>\n",
       "      <td>1084</td>\n",
       "      <td>36.55</td>\n",
       "    </tr>\n",
       "    <tr>\n",
       "      <th>1</th>\n",
       "      <td></td>\n",
       "      <td>22</td>\n",
       "      <td>941</td>\n",
       "      <td>31.73</td>\n",
       "    </tr>\n",
       "    <tr>\n",
       "      <th>2</th>\n",
       "      <td></td>\n",
       "      <td>20</td>\n",
       "      <td>375</td>\n",
       "      <td>12.64</td>\n",
       "    </tr>\n",
       "    <tr>\n",
       "      <th>3</th>\n",
       "      <td></td>\n",
       "      <td>23</td>\n",
       "      <td>195</td>\n",
       "      <td>6.57</td>\n",
       "    </tr>\n",
       "    <tr>\n",
       "      <th>4</th>\n",
       "      <td></td>\n",
       "      <td>19</td>\n",
       "      <td>156</td>\n",
       "      <td>5.26</td>\n",
       "    </tr>\n",
       "    <tr>\n",
       "      <th>5</th>\n",
       "      <td></td>\n",
       "      <td>24</td>\n",
       "      <td>131</td>\n",
       "      <td>4.42</td>\n",
       "    </tr>\n",
       "    <tr>\n",
       "      <th>6</th>\n",
       "      <td></td>\n",
       "      <td>26</td>\n",
       "      <td>50</td>\n",
       "      <td>1.69</td>\n",
       "    </tr>\n",
       "    <tr>\n",
       "      <th>7</th>\n",
       "      <td></td>\n",
       "      <td>25</td>\n",
       "      <td>29</td>\n",
       "      <td>0.98</td>\n",
       "    </tr>\n",
       "    <tr>\n",
       "      <th>8</th>\n",
       "      <td></td>\n",
       "      <td>28</td>\n",
       "      <td>3</td>\n",
       "      <td>0.10</td>\n",
       "    </tr>\n",
       "    <tr>\n",
       "      <th>9</th>\n",
       "      <td></td>\n",
       "      <td>30</td>\n",
       "      <td>1</td>\n",
       "      <td>0.03</td>\n",
       "    </tr>\n",
       "    <tr>\n",
       "      <th>10</th>\n",
       "      <td></td>\n",
       "      <td>29</td>\n",
       "      <td>1</td>\n",
       "      <td>0.03</td>\n",
       "    </tr>\n",
       "    <tr>\n",
       "      <th>11</th>\n",
       "      <td>Gender</td>\n",
       "      <td>Male</td>\n",
       "      <td>2475</td>\n",
       "      <td>83.45</td>\n",
       "    </tr>\n",
       "    <tr>\n",
       "      <th>12</th>\n",
       "      <td></td>\n",
       "      <td>Female</td>\n",
       "      <td>491</td>\n",
       "      <td>16.55</td>\n",
       "    </tr>\n",
       "    <tr>\n",
       "      <th>13</th>\n",
       "      <td>Stream</td>\n",
       "      <td>Computer Science</td>\n",
       "      <td>776</td>\n",
       "      <td>26.16</td>\n",
       "    </tr>\n",
       "    <tr>\n",
       "      <th>14</th>\n",
       "      <td></td>\n",
       "      <td>Information Technology</td>\n",
       "      <td>691</td>\n",
       "      <td>23.30</td>\n",
       "    </tr>\n",
       "    <tr>\n",
       "      <th>15</th>\n",
       "      <td></td>\n",
       "      <td>Mechanical</td>\n",
       "      <td>424</td>\n",
       "      <td>14.30</td>\n",
       "    </tr>\n",
       "    <tr>\n",
       "      <th>16</th>\n",
       "      <td></td>\n",
       "      <td>Electronics And Communication</td>\n",
       "      <td>424</td>\n",
       "      <td>14.30</td>\n",
       "    </tr>\n",
       "    <tr>\n",
       "      <th>17</th>\n",
       "      <td></td>\n",
       "      <td>Electrical</td>\n",
       "      <td>334</td>\n",
       "      <td>11.26</td>\n",
       "    </tr>\n",
       "    <tr>\n",
       "      <th>18</th>\n",
       "      <td></td>\n",
       "      <td>Civil</td>\n",
       "      <td>317</td>\n",
       "      <td>10.69</td>\n",
       "    </tr>\n",
       "    <tr>\n",
       "      <th>19</th>\n",
       "      <td>Internships</td>\n",
       "      <td>0</td>\n",
       "      <td>1331</td>\n",
       "      <td>44.88</td>\n",
       "    </tr>\n",
       "    <tr>\n",
       "      <th>20</th>\n",
       "      <td></td>\n",
       "      <td>1</td>\n",
       "      <td>1234</td>\n",
       "      <td>41.60</td>\n",
       "    </tr>\n",
       "    <tr>\n",
       "      <th>21</th>\n",
       "      <td></td>\n",
       "      <td>2</td>\n",
       "      <td>350</td>\n",
       "      <td>11.80</td>\n",
       "    </tr>\n",
       "    <tr>\n",
       "      <th>22</th>\n",
       "      <td></td>\n",
       "      <td>3</td>\n",
       "      <td>51</td>\n",
       "      <td>1.72</td>\n",
       "    </tr>\n",
       "    <tr>\n",
       "      <th>23</th>\n",
       "      <td>CGPA</td>\n",
       "      <td>7</td>\n",
       "      <td>956</td>\n",
       "      <td>32.23</td>\n",
       "    </tr>\n",
       "    <tr>\n",
       "      <th>24</th>\n",
       "      <td></td>\n",
       "      <td>8</td>\n",
       "      <td>915</td>\n",
       "      <td>30.85</td>\n",
       "    </tr>\n",
       "    <tr>\n",
       "      <th>25</th>\n",
       "      <td></td>\n",
       "      <td>6</td>\n",
       "      <td>834</td>\n",
       "      <td>28.12</td>\n",
       "    </tr>\n",
       "    <tr>\n",
       "      <th>26</th>\n",
       "      <td></td>\n",
       "      <td>9</td>\n",
       "      <td>165</td>\n",
       "      <td>5.56</td>\n",
       "    </tr>\n",
       "    <tr>\n",
       "      <th>27</th>\n",
       "      <td></td>\n",
       "      <td>5</td>\n",
       "      <td>96</td>\n",
       "      <td>3.24</td>\n",
       "    </tr>\n",
       "    <tr>\n",
       "      <th>28</th>\n",
       "      <td>Hostel</td>\n",
       "      <td>0</td>\n",
       "      <td>2168</td>\n",
       "      <td>73.10</td>\n",
       "    </tr>\n",
       "    <tr>\n",
       "      <th>29</th>\n",
       "      <td></td>\n",
       "      <td>1</td>\n",
       "      <td>798</td>\n",
       "      <td>26.90</td>\n",
       "    </tr>\n",
       "    <tr>\n",
       "      <th>30</th>\n",
       "      <td>HistoryOfBacklogs</td>\n",
       "      <td>0</td>\n",
       "      <td>2396</td>\n",
       "      <td>80.78</td>\n",
       "    </tr>\n",
       "    <tr>\n",
       "      <th>31</th>\n",
       "      <td></td>\n",
       "      <td>1</td>\n",
       "      <td>570</td>\n",
       "      <td>19.22</td>\n",
       "    </tr>\n",
       "    <tr>\n",
       "      <th>32</th>\n",
       "      <td>PlacedOrNot</td>\n",
       "      <td>1</td>\n",
       "      <td>1639</td>\n",
       "      <td>55.26</td>\n",
       "    </tr>\n",
       "    <tr>\n",
       "      <th>33</th>\n",
       "      <td></td>\n",
       "      <td>0</td>\n",
       "      <td>1327</td>\n",
       "      <td>44.74</td>\n",
       "    </tr>\n",
       "  </tbody>\n",
       "</table>\n",
       "</div>"
      ],
      "text/plain": [
       "             Variable                        Outcome  Count  Percent\n",
       "0                 Age                             21   1084    36.55\n",
       "1                                                 22    941    31.73\n",
       "2                                                 20    375    12.64\n",
       "3                                                 23    195     6.57\n",
       "4                                                 19    156     5.26\n",
       "5                                                 24    131     4.42\n",
       "6                                                 26     50     1.69\n",
       "7                                                 25     29     0.98\n",
       "8                                                 28      3     0.10\n",
       "9                                                 30      1     0.03\n",
       "10                                                29      1     0.03\n",
       "11             Gender                           Male   2475    83.45\n",
       "12                                            Female    491    16.55\n",
       "13             Stream               Computer Science    776    26.16\n",
       "14                            Information Technology    691    23.30\n",
       "15                                        Mechanical    424    14.30\n",
       "16                     Electronics And Communication    424    14.30\n",
       "17                                        Electrical    334    11.26\n",
       "18                                             Civil    317    10.69\n",
       "19        Internships                              0   1331    44.88\n",
       "20                                                 1   1234    41.60\n",
       "21                                                 2    350    11.80\n",
       "22                                                 3     51     1.72\n",
       "23               CGPA                              7    956    32.23\n",
       "24                                                 8    915    30.85\n",
       "25                                                 6    834    28.12\n",
       "26                                                 9    165     5.56\n",
       "27                                                 5     96     3.24\n",
       "28             Hostel                              0   2168    73.10\n",
       "29                                                 1    798    26.90\n",
       "30  HistoryOfBacklogs                              0   2396    80.78\n",
       "31                                                 1    570    19.22\n",
       "32        PlacedOrNot                              1   1639    55.26\n",
       "33                                                 0   1327    44.74"
      ]
     },
     "execution_count": 15,
     "metadata": {},
     "output_type": "execute_result"
    }
   ],
   "source": [
    "#sınıf frekansları\n",
    "#!pip install researchpy\n",
    "import researchpy as rp\n",
    "rp.summary_cat(df)"
   ]
  },
  {
   "cell_type": "code",
   "execution_count": 16,
   "id": "f71c80e1-50a3-4bb1-8498-5c816c4201d7",
   "metadata": {},
   "outputs": [
    {
     "data": {
      "text/html": [
       "<div>\n",
       "<style scoped>\n",
       "    .dataframe tbody tr th:only-of-type {\n",
       "        vertical-align: middle;\n",
       "    }\n",
       "\n",
       "    .dataframe tbody tr th {\n",
       "        vertical-align: top;\n",
       "    }\n",
       "\n",
       "    .dataframe thead th {\n",
       "        text-align: right;\n",
       "    }\n",
       "</style>\n",
       "<table border=\"1\" class=\"dataframe\">\n",
       "  <thead>\n",
       "    <tr style=\"text-align: right;\">\n",
       "      <th></th>\n",
       "      <th>Age</th>\n",
       "      <th>Internships</th>\n",
       "      <th>CGPA</th>\n",
       "      <th>Hostel</th>\n",
       "      <th>HistoryOfBacklogs</th>\n",
       "      <th>PlacedOrNot</th>\n",
       "    </tr>\n",
       "  </thead>\n",
       "  <tbody>\n",
       "    <tr>\n",
       "      <th>Age</th>\n",
       "      <td>1.000000</td>\n",
       "      <td>0.006552</td>\n",
       "      <td>-0.119787</td>\n",
       "      <td>0.003042</td>\n",
       "      <td>-0.042586</td>\n",
       "      <td>0.046943</td>\n",
       "    </tr>\n",
       "    <tr>\n",
       "      <th>Internships</th>\n",
       "      <td>0.006552</td>\n",
       "      <td>1.000000</td>\n",
       "      <td>0.023496</td>\n",
       "      <td>0.004617</td>\n",
       "      <td>-0.015118</td>\n",
       "      <td>0.179334</td>\n",
       "    </tr>\n",
       "    <tr>\n",
       "      <th>CGPA</th>\n",
       "      <td>-0.119787</td>\n",
       "      <td>0.023496</td>\n",
       "      <td>1.000000</td>\n",
       "      <td>0.014991</td>\n",
       "      <td>0.002576</td>\n",
       "      <td>0.588648</td>\n",
       "    </tr>\n",
       "    <tr>\n",
       "      <th>Hostel</th>\n",
       "      <td>0.003042</td>\n",
       "      <td>0.004617</td>\n",
       "      <td>0.014991</td>\n",
       "      <td>1.000000</td>\n",
       "      <td>0.103506</td>\n",
       "      <td>-0.038182</td>\n",
       "    </tr>\n",
       "    <tr>\n",
       "      <th>HistoryOfBacklogs</th>\n",
       "      <td>-0.042586</td>\n",
       "      <td>-0.015118</td>\n",
       "      <td>0.002576</td>\n",
       "      <td>0.103506</td>\n",
       "      <td>1.000000</td>\n",
       "      <td>-0.022337</td>\n",
       "    </tr>\n",
       "    <tr>\n",
       "      <th>PlacedOrNot</th>\n",
       "      <td>0.046943</td>\n",
       "      <td>0.179334</td>\n",
       "      <td>0.588648</td>\n",
       "      <td>-0.038182</td>\n",
       "      <td>-0.022337</td>\n",
       "      <td>1.000000</td>\n",
       "    </tr>\n",
       "  </tbody>\n",
       "</table>\n",
       "</div>"
      ],
      "text/plain": [
       "                        Age  Internships      CGPA    Hostel  \\\n",
       "Age                1.000000     0.006552 -0.119787  0.003042   \n",
       "Internships        0.006552     1.000000  0.023496  0.004617   \n",
       "CGPA              -0.119787     0.023496  1.000000  0.014991   \n",
       "Hostel             0.003042     0.004617  0.014991  1.000000   \n",
       "HistoryOfBacklogs -0.042586    -0.015118  0.002576  0.103506   \n",
       "PlacedOrNot        0.046943     0.179334  0.588648 -0.038182   \n",
       "\n",
       "                   HistoryOfBacklogs  PlacedOrNot  \n",
       "Age                        -0.042586     0.046943  \n",
       "Internships                -0.015118     0.179334  \n",
       "CGPA                        0.002576     0.588648  \n",
       "Hostel                      0.103506    -0.038182  \n",
       "HistoryOfBacklogs           1.000000    -0.022337  \n",
       "PlacedOrNot                -0.022337     1.000000  "
      ]
     },
     "execution_count": 16,
     "metadata": {},
     "output_type": "execute_result"
    }
   ],
   "source": [
    "df.corr()"
   ]
  },
  {
   "cell_type": "code",
   "execution_count": 17,
   "id": "648f3754-f365-4140-a5b9-5969674bf6f8",
   "metadata": {},
   "outputs": [
    {
     "data": {
      "text/plain": [
       "Age                  0\n",
       "Gender               0\n",
       "Stream               0\n",
       "Internships          0\n",
       "CGPA                 0\n",
       "Hostel               0\n",
       "HistoryOfBacklogs    0\n",
       "PlacedOrNot          0\n",
       "dtype: int64"
      ]
     },
     "execution_count": 17,
     "metadata": {},
     "output_type": "execute_result"
    }
   ],
   "source": [
    "#veride boş değer olmadığı görülüyor\n",
    "df.isnull().sum()"
   ]
  },
  {
   "cell_type": "code",
   "execution_count": 18,
   "id": "3a800000-98d3-40f0-8deb-febe054744ca",
   "metadata": {},
   "outputs": [
    {
     "data": {
      "text/plain": [
       "Age                   int64\n",
       "Gender               object\n",
       "Stream               object\n",
       "Internships           int64\n",
       "CGPA                  int64\n",
       "Hostel                int64\n",
       "HistoryOfBacklogs     int64\n",
       "PlacedOrNot           int64\n",
       "dtype: object"
      ]
     },
     "execution_count": 18,
     "metadata": {},
     "output_type": "execute_result"
    }
   ],
   "source": [
    "df.dtypes"
   ]
  },
  {
   "cell_type": "code",
   "execution_count": 19,
   "id": "33d24a4c-0e59-47a6-b3d4-7fcbf6c7ea23",
   "metadata": {},
   "outputs": [],
   "source": [
    "#object olan değerleri nümerik değerlere atayarak ml bölümünde algoritmaların kullanarak veriden anlamlı bilgi çıkarmasını sağlayacağız\n",
    "from sklearn import preprocessing\n",
    "lbe=preprocessing.LabelEncoder()\n",
    "df[\"Gender\"] = lbe.fit_transform(df[\"Gender\"])\n",
    "df[\"Stream\"] = lbe.fit_transform(df[\"Stream\"])"
   ]
  },
  {
   "cell_type": "code",
   "execution_count": 20,
   "id": "f56a83eb-0292-417c-bf98-2f249bd4843d",
   "metadata": {},
   "outputs": [
    {
     "data": {
      "text/html": [
       "<div>\n",
       "<style scoped>\n",
       "    .dataframe tbody tr th:only-of-type {\n",
       "        vertical-align: middle;\n",
       "    }\n",
       "\n",
       "    .dataframe tbody tr th {\n",
       "        vertical-align: top;\n",
       "    }\n",
       "\n",
       "    .dataframe thead th {\n",
       "        text-align: right;\n",
       "    }\n",
       "</style>\n",
       "<table border=\"1\" class=\"dataframe\">\n",
       "  <thead>\n",
       "    <tr style=\"text-align: right;\">\n",
       "      <th></th>\n",
       "      <th>Age</th>\n",
       "      <th>Gender</th>\n",
       "      <th>Stream</th>\n",
       "      <th>Internships</th>\n",
       "      <th>CGPA</th>\n",
       "      <th>Hostel</th>\n",
       "      <th>HistoryOfBacklogs</th>\n",
       "      <th>PlacedOrNot</th>\n",
       "    </tr>\n",
       "  </thead>\n",
       "  <tbody>\n",
       "    <tr>\n",
       "      <th>0</th>\n",
       "      <td>22</td>\n",
       "      <td>1</td>\n",
       "      <td>3</td>\n",
       "      <td>1</td>\n",
       "      <td>8</td>\n",
       "      <td>1</td>\n",
       "      <td>1</td>\n",
       "      <td>1</td>\n",
       "    </tr>\n",
       "    <tr>\n",
       "      <th>1</th>\n",
       "      <td>21</td>\n",
       "      <td>0</td>\n",
       "      <td>1</td>\n",
       "      <td>0</td>\n",
       "      <td>7</td>\n",
       "      <td>1</td>\n",
       "      <td>1</td>\n",
       "      <td>1</td>\n",
       "    </tr>\n",
       "    <tr>\n",
       "      <th>2</th>\n",
       "      <td>22</td>\n",
       "      <td>0</td>\n",
       "      <td>4</td>\n",
       "      <td>1</td>\n",
       "      <td>6</td>\n",
       "      <td>0</td>\n",
       "      <td>0</td>\n",
       "      <td>1</td>\n",
       "    </tr>\n",
       "    <tr>\n",
       "      <th>3</th>\n",
       "      <td>21</td>\n",
       "      <td>1</td>\n",
       "      <td>4</td>\n",
       "      <td>0</td>\n",
       "      <td>8</td>\n",
       "      <td>0</td>\n",
       "      <td>1</td>\n",
       "      <td>1</td>\n",
       "    </tr>\n",
       "    <tr>\n",
       "      <th>4</th>\n",
       "      <td>22</td>\n",
       "      <td>1</td>\n",
       "      <td>5</td>\n",
       "      <td>0</td>\n",
       "      <td>8</td>\n",
       "      <td>1</td>\n",
       "      <td>0</td>\n",
       "      <td>1</td>\n",
       "    </tr>\n",
       "    <tr>\n",
       "      <th>...</th>\n",
       "      <td>...</td>\n",
       "      <td>...</td>\n",
       "      <td>...</td>\n",
       "      <td>...</td>\n",
       "      <td>...</td>\n",
       "      <td>...</td>\n",
       "      <td>...</td>\n",
       "      <td>...</td>\n",
       "    </tr>\n",
       "    <tr>\n",
       "      <th>2961</th>\n",
       "      <td>23</td>\n",
       "      <td>1</td>\n",
       "      <td>4</td>\n",
       "      <td>0</td>\n",
       "      <td>7</td>\n",
       "      <td>0</td>\n",
       "      <td>0</td>\n",
       "      <td>0</td>\n",
       "    </tr>\n",
       "    <tr>\n",
       "      <th>2962</th>\n",
       "      <td>23</td>\n",
       "      <td>1</td>\n",
       "      <td>5</td>\n",
       "      <td>1</td>\n",
       "      <td>7</td>\n",
       "      <td>1</td>\n",
       "      <td>0</td>\n",
       "      <td>0</td>\n",
       "    </tr>\n",
       "    <tr>\n",
       "      <th>2963</th>\n",
       "      <td>22</td>\n",
       "      <td>1</td>\n",
       "      <td>4</td>\n",
       "      <td>1</td>\n",
       "      <td>7</td>\n",
       "      <td>0</td>\n",
       "      <td>0</td>\n",
       "      <td>0</td>\n",
       "    </tr>\n",
       "    <tr>\n",
       "      <th>2964</th>\n",
       "      <td>22</td>\n",
       "      <td>1</td>\n",
       "      <td>1</td>\n",
       "      <td>1</td>\n",
       "      <td>7</td>\n",
       "      <td>0</td>\n",
       "      <td>0</td>\n",
       "      <td>0</td>\n",
       "    </tr>\n",
       "    <tr>\n",
       "      <th>2965</th>\n",
       "      <td>23</td>\n",
       "      <td>1</td>\n",
       "      <td>0</td>\n",
       "      <td>0</td>\n",
       "      <td>8</td>\n",
       "      <td>0</td>\n",
       "      <td>0</td>\n",
       "      <td>1</td>\n",
       "    </tr>\n",
       "  </tbody>\n",
       "</table>\n",
       "<p>2966 rows × 8 columns</p>\n",
       "</div>"
      ],
      "text/plain": [
       "      Age  Gender  Stream  Internships  CGPA  Hostel  HistoryOfBacklogs  \\\n",
       "0      22       1       3            1     8       1                  1   \n",
       "1      21       0       1            0     7       1                  1   \n",
       "2      22       0       4            1     6       0                  0   \n",
       "3      21       1       4            0     8       0                  1   \n",
       "4      22       1       5            0     8       1                  0   \n",
       "...   ...     ...     ...          ...   ...     ...                ...   \n",
       "2961   23       1       4            0     7       0                  0   \n",
       "2962   23       1       5            1     7       1                  0   \n",
       "2963   22       1       4            1     7       0                  0   \n",
       "2964   22       1       1            1     7       0                  0   \n",
       "2965   23       1       0            0     8       0                  0   \n",
       "\n",
       "      PlacedOrNot  \n",
       "0               1  \n",
       "1               1  \n",
       "2               1  \n",
       "3               1  \n",
       "4               1  \n",
       "...           ...  \n",
       "2961            0  \n",
       "2962            0  \n",
       "2963            0  \n",
       "2964            0  \n",
       "2965            1  \n",
       "\n",
       "[2966 rows x 8 columns]"
      ]
     },
     "execution_count": 20,
     "metadata": {},
     "output_type": "execute_result"
    }
   ],
   "source": [
    "df"
   ]
  },
  {
   "cell_type": "code",
   "execution_count": 21,
   "id": "aeab6ef1-ba7c-410d-83ae-9b07cbec48e5",
   "metadata": {},
   "outputs": [
    {
     "data": {
      "text/plain": [
       "Age                  int64\n",
       "Gender               int32\n",
       "Stream               int32\n",
       "Internships          int64\n",
       "CGPA                 int64\n",
       "Hostel               int64\n",
       "HistoryOfBacklogs    int64\n",
       "PlacedOrNot          int64\n",
       "dtype: object"
      ]
     },
     "execution_count": 21,
     "metadata": {},
     "output_type": "execute_result"
    }
   ],
   "source": [
    "df.dtypes"
   ]
  },
  {
   "cell_type": "code",
   "execution_count": 22,
   "id": "0d3b89f1-e053-42c9-b15b-de543f938da8",
   "metadata": {},
   "outputs": [],
   "source": [
    "#LGBM ile sınıflandıma modelini kuralım\n",
    "from lightgbm import LGBMClassifier\n",
    "from sklearn.model_selection import train_test_split, GridSearchCV, cross_val_score\n",
    "y = df[\"PlacedOrNot\"]\n",
    "X = df.drop(['PlacedOrNot'], axis=1)\n",
    "X = pd.DataFrame(X)\n",
    "X_train, X_test, y_train, y_test = train_test_split(X, y, \n",
    "                                                    test_size=0.20, \n",
    "                                                    random_state=42)"
   ]
  },
  {
   "cell_type": "code",
   "execution_count": 23,
   "id": "25cc9b3c-66b1-42b9-a7ba-8f59a33ff553",
   "metadata": {},
   "outputs": [],
   "source": [
    "from lightgbm import LGBMClassifier"
   ]
  },
  {
   "cell_type": "code",
   "execution_count": 24,
   "id": "b7a5d4d9-9755-4a89-915b-a6eca7b7dcdb",
   "metadata": {},
   "outputs": [],
   "source": [
    "lgbm_model = LGBMClassifier().fit(X_train, y_train)"
   ]
  },
  {
   "cell_type": "code",
   "execution_count": 25,
   "id": "5460651c-0e8e-4b27-a803-c3c49a382a01",
   "metadata": {},
   "outputs": [
    {
     "data": {
      "text/plain": [
       "0.8888888888888888"
      ]
     },
     "execution_count": 25,
     "metadata": {},
     "output_type": "execute_result"
    }
   ],
   "source": [
    "from sklearn.metrics import confusion_matrix, accuracy_score, classification_report\n",
    "y_pred = lgbm_model.predict(X_test)\n",
    "accuracy_score(y_test, y_pred)"
   ]
  },
  {
   "cell_type": "code",
   "execution_count": 26,
   "id": "a33b70d8-e160-4425-8baa-522890bb4ca6",
   "metadata": {},
   "outputs": [
    {
     "data": {
      "text/plain": [
       "LGBMClassifier()"
      ]
     },
     "execution_count": 26,
     "metadata": {},
     "output_type": "execute_result"
    }
   ],
   "source": [
    "#accuracy score hesabından şu anda %88 kesinlik olduğu görülüyor model tunning de tekrar kontrol edeceğiz\n",
    "lgbm_model"
   ]
  },
  {
   "cell_type": "code",
   "execution_count": 27,
   "id": "77f529ac-5c62-4836-9a8c-bccc22360c6f",
   "metadata": {},
   "outputs": [],
   "source": [
    "lgbm_params = {\n",
    "        'n_estimators': [100, 500, 1000, 2000],\n",
    "        'subsample': [0.3 ,0.5, 0.6, 0.8, 1.0],\n",
    "        'max_depth': [3, 4, 5, 6],\n",
    "        'learning_rate': [0.1, 0.01, 0.02, 0.05, 0.07],\n",
    "        \"min_child_samples\": [5, 10, 20]}"
   ]
  },
  {
   "cell_type": "code",
   "execution_count": 28,
   "id": "0ff63651-a447-4fcc-9dfd-5f9dde3a88d2",
   "metadata": {},
   "outputs": [],
   "source": [
    "lgbm = LGBMClassifier(class_weight = 'balanced')\n",
    "\n",
    "lgbm_cv_model = GridSearchCV(lgbm, lgbm_params, \n",
    "                             cv = 4, \n",
    "                             n_jobs = -1, \n",
    "                             verbose = 2)"
   ]
  },
  {
   "cell_type": "code",
   "execution_count": 29,
   "id": "a2d80473-8ccf-490f-a4a8-db07be031e10",
   "metadata": {},
   "outputs": [
    {
     "name": "stdout",
     "output_type": "stream",
     "text": [
      "Fitting 4 folds for each of 1200 candidates, totalling 4800 fits\n"
     ]
    },
    {
     "data": {
      "text/plain": [
       "GridSearchCV(cv=4, estimator=LGBMClassifier(class_weight='balanced'), n_jobs=-1,\n",
       "             param_grid={'learning_rate': [0.1, 0.01, 0.02, 0.05, 0.07],\n",
       "                         'max_depth': [3, 4, 5, 6],\n",
       "                         'min_child_samples': [5, 10, 20],\n",
       "                         'n_estimators': [100, 500, 1000, 2000],\n",
       "                         'subsample': [0.3, 0.5, 0.6, 0.8, 1.0]},\n",
       "             verbose=2)"
      ]
     },
     "execution_count": 29,
     "metadata": {},
     "output_type": "execute_result"
    }
   ],
   "source": [
    "lgbm_cv_model.fit(X_train, y_train)"
   ]
  },
  {
   "cell_type": "code",
   "execution_count": 27,
   "id": "aadc8437-d9b8-4388-bddc-8b53da05707b",
   "metadata": {
    "collapsed": true,
    "jupyter": {
     "outputs_hidden": true
    },
    "tags": []
   },
   "outputs": [
    {
     "ename": "NameError",
     "evalue": "name 'lgbm_cv_model' is not defined",
     "output_type": "error",
     "traceback": [
      "\u001b[1;31m---------------------------------------------------------------------------\u001b[0m",
      "\u001b[1;31mNameError\u001b[0m                                 Traceback (most recent call last)",
      "\u001b[1;32m<ipython-input-27-7c8ace992dc1>\u001b[0m in \u001b[0;36m<module>\u001b[1;34m\u001b[0m\n\u001b[1;32m----> 1\u001b[1;33m \u001b[0mlgbm_cv_model\u001b[0m\u001b[1;33m.\u001b[0m\u001b[0mbest_params_\u001b[0m\u001b[1;33m\u001b[0m\u001b[1;33m\u001b[0m\u001b[0m\n\u001b[0m",
      "\u001b[1;31mNameError\u001b[0m: name 'lgbm_cv_model' is not defined"
     ]
    }
   ],
   "source": [
    "lgbm_cv_model.best_params_"
   ]
  },
  {
   "cell_type": "code",
   "execution_count": 28,
   "id": "ab140a7c-d95b-409b-9e8c-8e1da2985d98",
   "metadata": {},
   "outputs": [],
   "source": [
    "lgbm = LGBMClassifier(learning_rate = 0.1, \n",
    "                       max_depth = 6,\n",
    "                       subsample = 0.3,\n",
    "                       n_estimators = 100,\n",
    "                       min_child_samples = 5)"
   ]
  },
  {
   "cell_type": "code",
   "execution_count": 29,
   "id": "2865a44b-c599-414e-abc2-44d215ac7573",
   "metadata": {},
   "outputs": [],
   "source": [
    "lgbm_tuned = lgbm.fit(X_train,y_train)"
   ]
  },
  {
   "cell_type": "code",
   "execution_count": 30,
   "id": "6164134d-777e-4689-a004-870556840726",
   "metadata": {},
   "outputs": [
    {
     "data": {
      "text/plain": [
       "0.8754208754208754"
      ]
     },
     "execution_count": 30,
     "metadata": {},
     "output_type": "execute_result"
    }
   ],
   "source": [
    "y_pred = lgbm_tuned.predict(X_test)\n",
    "accuracy_score(y_test, y_pred)"
   ]
  },
  {
   "cell_type": "code",
   "execution_count": 31,
   "id": "c75ee820-7e39-4b6d-b4c2-9a8789e9f0e5",
   "metadata": {},
   "outputs": [
    {
     "name": "stdout",
     "output_type": "stream",
     "text": [
      "              precision    recall  f1-score   support\n",
      "\n",
      "           0       0.83      0.93      0.88       280\n",
      "           1       0.93      0.82      0.88       314\n",
      "\n",
      "    accuracy                           0.88       594\n",
      "   macro avg       0.88      0.88      0.88       594\n",
      "weighted avg       0.88      0.88      0.88       594\n",
      "\n"
     ]
    }
   ],
   "source": [
    "print(classification_report(y_test, y_pred))"
   ]
  },
  {
   "cell_type": "code",
   "execution_count": 32,
   "id": "3d2171f4-c4bc-4044-87cc-811ca3778bef",
   "metadata": {},
   "outputs": [],
   "source": [
    "import statsmodels.api as sm"
   ]
  },
  {
   "cell_type": "code",
   "execution_count": 33,
   "id": "2fc2b0d8-8a19-40b3-bdc6-9074e80beed7",
   "metadata": {},
   "outputs": [],
   "source": [
    "lm = sm.OLS(y_test, y_pred)"
   ]
  },
  {
   "cell_type": "code",
   "execution_count": 34,
   "id": "71ad96d5-b0e6-49af-8914-86ab0140a538",
   "metadata": {},
   "outputs": [],
   "source": [
    "model = lm.fit()"
   ]
  },
  {
   "cell_type": "code",
   "execution_count": 35,
   "id": "04256aa2-3c5d-44ed-aa66-4de311ef462a",
   "metadata": {},
   "outputs": [
    {
     "data": {
      "text/html": [
       "<table class=\"simpletable\">\n",
       "<caption>OLS Regression Results</caption>\n",
       "<tr>\n",
       "  <th>Dep. Variable:</th>       <td>PlacedOrNot</td>   <th>  R-squared (uncentered):</th>      <td>   0.768</td> \n",
       "</tr>\n",
       "<tr>\n",
       "  <th>Model:</th>                   <td>OLS</td>       <th>  Adj. R-squared (uncentered):</th> <td>   0.768</td> \n",
       "</tr>\n",
       "<tr>\n",
       "  <th>Method:</th>             <td>Least Squares</td>  <th>  F-statistic:       </th>          <td>   1968.</td> \n",
       "</tr>\n",
       "<tr>\n",
       "  <th>Date:</th>             <td>Wed, 29 Sep 2021</td> <th>  Prob (F-statistic):</th>          <td>1.51e-190</td>\n",
       "</tr>\n",
       "<tr>\n",
       "  <th>Time:</th>                 <td>21:11:55</td>     <th>  Log-Likelihood:    </th>          <td> -219.00</td> \n",
       "</tr>\n",
       "<tr>\n",
       "  <th>No. Observations:</th>      <td>   594</td>      <th>  AIC:               </th>          <td>   440.0</td> \n",
       "</tr>\n",
       "<tr>\n",
       "  <th>Df Residuals:</th>          <td>   593</td>      <th>  BIC:               </th>          <td>   444.4</td> \n",
       "</tr>\n",
       "<tr>\n",
       "  <th>Df Model:</th>              <td>     1</td>      <th>                     </th>              <td> </td>    \n",
       "</tr>\n",
       "<tr>\n",
       "  <th>Covariance Type:</th>      <td>nonrobust</td>    <th>                     </th>              <td> </td>    \n",
       "</tr>\n",
       "</table>\n",
       "<table class=\"simpletable\">\n",
       "<tr>\n",
       "   <td></td>     <th>coef</th>     <th>std err</th>      <th>t</th>      <th>P>|t|</th>  <th>[0.025</th>    <th>0.975]</th>  \n",
       "</tr>\n",
       "<tr>\n",
       "  <th>x1</th> <td>    0.9317</td> <td>    0.021</td> <td>   44.364</td> <td> 0.000</td> <td>    0.890</td> <td>    0.973</td>\n",
       "</tr>\n",
       "</table>\n",
       "<table class=\"simpletable\">\n",
       "<tr>\n",
       "  <th>Omnibus:</th>       <td>129.446</td> <th>  Durbin-Watson:     </th> <td>   1.901</td> \n",
       "</tr>\n",
       "<tr>\n",
       "  <th>Prob(Omnibus):</th> <td> 0.000</td>  <th>  Jarque-Bera (JB):  </th> <td> 595.599</td> \n",
       "</tr>\n",
       "<tr>\n",
       "  <th>Skew:</th>          <td> 0.897</td>  <th>  Prob(JB):          </th> <td>4.65e-130</td>\n",
       "</tr>\n",
       "<tr>\n",
       "  <th>Kurtosis:</th>      <td> 7.566</td>  <th>  Cond. No.          </th> <td>    1.00</td> \n",
       "</tr>\n",
       "</table><br/><br/>Notes:<br/>[1] R² is computed without centering (uncentered) since the model does not contain a constant.<br/>[2] Standard Errors assume that the covariance matrix of the errors is correctly specified."
      ],
      "text/plain": [
       "<class 'statsmodels.iolib.summary.Summary'>\n",
       "\"\"\"\n",
       "                                 OLS Regression Results                                \n",
       "=======================================================================================\n",
       "Dep. Variable:            PlacedOrNot   R-squared (uncentered):                   0.768\n",
       "Model:                            OLS   Adj. R-squared (uncentered):              0.768\n",
       "Method:                 Least Squares   F-statistic:                              1968.\n",
       "Date:                Wed, 29 Sep 2021   Prob (F-statistic):                   1.51e-190\n",
       "Time:                        21:11:55   Log-Likelihood:                         -219.00\n",
       "No. Observations:                 594   AIC:                                      440.0\n",
       "Df Residuals:                     593   BIC:                                      444.4\n",
       "Df Model:                           1                                                  \n",
       "Covariance Type:            nonrobust                                                  \n",
       "==============================================================================\n",
       "                 coef    std err          t      P>|t|      [0.025      0.975]\n",
       "------------------------------------------------------------------------------\n",
       "x1             0.9317      0.021     44.364      0.000       0.890       0.973\n",
       "==============================================================================\n",
       "Omnibus:                      129.446   Durbin-Watson:                   1.901\n",
       "Prob(Omnibus):                  0.000   Jarque-Bera (JB):              595.599\n",
       "Skew:                           0.897   Prob(JB):                    4.65e-130\n",
       "Kurtosis:                       7.566   Cond. No.                         1.00\n",
       "==============================================================================\n",
       "\n",
       "Notes:\n",
       "[1] R² is computed without centering (uncentered) since the model does not contain a constant.\n",
       "[2] Standard Errors assume that the covariance matrix of the errors is correctly specified.\n",
       "\"\"\""
      ]
     },
     "execution_count": 35,
     "metadata": {},
     "output_type": "execute_result"
    }
   ],
   "source": [
    "model.summary()"
   ]
  },
  {
   "cell_type": "code",
   "execution_count": 36,
   "id": "5211be1d-dd5a-4fd0-afa3-11416091afd9",
   "metadata": {},
   "outputs": [],
   "source": [
    "Importance = pd.DataFrame({\"Importance\": lgbm_tuned.feature_importances_*100},\n",
    "                         index = X_train.columns)"
   ]
  },
  {
   "cell_type": "code",
   "execution_count": 37,
   "id": "82a2b875-18a2-40bf-bfef-5caf5285fa15",
   "metadata": {},
   "outputs": [
    {
     "data": {
      "text/plain": [
       "Text(0.5, 0, 'Değişken Önem Düzeyleri')"
      ]
     },
     "execution_count": 37,
     "metadata": {},
     "output_type": "execute_result"
    },
    {
     "data": {
      "image/png": "[encoded data removed]",
      "text/plain": [
       "<Figure size 432x288 with 1 Axes>"
      ]
     },
     "metadata": {
      "needs_background": "light"
     },
     "output_type": "display_data"
    }
   ],
   "source": [
    "Importance.sort_values(by = \"Importance\", \n",
    "                       axis = 0, \n",
    "                       ascending = True).plot(kind =\"barh\", color = \"r\")\n",
    "\n",
    "plt.xlabel(\"Değişken Önem Düzeyleri\")"
   ]
  },
  {
   "cell_type": "code",
   "execution_count": 38,
   "id": "e85d009a-c317-4c2e-b7e1-0958f721b2cb",
   "metadata": {},
   "outputs": [
    {
     "data": {
      "text/html": [
       "<div>\n",
       "<style scoped>\n",
       "    .dataframe tbody tr th:only-of-type {\n",
       "        vertical-align: middle;\n",
       "    }\n",
       "\n",
       "    .dataframe tbody tr th {\n",
       "        vertical-align: top;\n",
       "    }\n",
       "\n",
       "    .dataframe thead th {\n",
       "        text-align: right;\n",
       "    }\n",
       "</style>\n",
       "<table border=\"1\" class=\"dataframe\">\n",
       "  <thead>\n",
       "    <tr style=\"text-align: right;\">\n",
       "      <th></th>\n",
       "      <th>Age</th>\n",
       "      <th>Gender</th>\n",
       "      <th>Stream</th>\n",
       "      <th>Internships</th>\n",
       "      <th>CGPA</th>\n",
       "      <th>Hostel</th>\n",
       "      <th>HistoryOfBacklogs</th>\n",
       "      <th>PlacedOrNot</th>\n",
       "    </tr>\n",
       "  </thead>\n",
       "  <tbody>\n",
       "    <tr>\n",
       "      <th>0</th>\n",
       "      <td>22</td>\n",
       "      <td>1</td>\n",
       "      <td>3</td>\n",
       "      <td>1</td>\n",
       "      <td>8</td>\n",
       "      <td>1</td>\n",
       "      <td>1</td>\n",
       "      <td>1</td>\n",
       "    </tr>\n",
       "    <tr>\n",
       "      <th>1</th>\n",
       "      <td>21</td>\n",
       "      <td>0</td>\n",
       "      <td>1</td>\n",
       "      <td>0</td>\n",
       "      <td>7</td>\n",
       "      <td>1</td>\n",
       "      <td>1</td>\n",
       "      <td>1</td>\n",
       "    </tr>\n",
       "    <tr>\n",
       "      <th>2</th>\n",
       "      <td>22</td>\n",
       "      <td>0</td>\n",
       "      <td>4</td>\n",
       "      <td>1</td>\n",
       "      <td>6</td>\n",
       "      <td>0</td>\n",
       "      <td>0</td>\n",
       "      <td>1</td>\n",
       "    </tr>\n",
       "    <tr>\n",
       "      <th>3</th>\n",
       "      <td>21</td>\n",
       "      <td>1</td>\n",
       "      <td>4</td>\n",
       "      <td>0</td>\n",
       "      <td>8</td>\n",
       "      <td>0</td>\n",
       "      <td>1</td>\n",
       "      <td>1</td>\n",
       "    </tr>\n",
       "    <tr>\n",
       "      <th>4</th>\n",
       "      <td>22</td>\n",
       "      <td>1</td>\n",
       "      <td>5</td>\n",
       "      <td>0</td>\n",
       "      <td>8</td>\n",
       "      <td>1</td>\n",
       "      <td>0</td>\n",
       "      <td>1</td>\n",
       "    </tr>\n",
       "    <tr>\n",
       "      <th>...</th>\n",
       "      <td>...</td>\n",
       "      <td>...</td>\n",
       "      <td>...</td>\n",
       "      <td>...</td>\n",
       "      <td>...</td>\n",
       "      <td>...</td>\n",
       "      <td>...</td>\n",
       "      <td>...</td>\n",
       "    </tr>\n",
       "    <tr>\n",
       "      <th>2961</th>\n",
       "      <td>23</td>\n",
       "      <td>1</td>\n",
       "      <td>4</td>\n",
       "      <td>0</td>\n",
       "      <td>7</td>\n",
       "      <td>0</td>\n",
       "      <td>0</td>\n",
       "      <td>0</td>\n",
       "    </tr>\n",
       "    <tr>\n",
       "      <th>2962</th>\n",
       "      <td>23</td>\n",
       "      <td>1</td>\n",
       "      <td>5</td>\n",
       "      <td>1</td>\n",
       "      <td>7</td>\n",
       "      <td>1</td>\n",
       "      <td>0</td>\n",
       "      <td>0</td>\n",
       "    </tr>\n",
       "    <tr>\n",
       "      <th>2963</th>\n",
       "      <td>22</td>\n",
       "      <td>1</td>\n",
       "      <td>4</td>\n",
       "      <td>1</td>\n",
       "      <td>7</td>\n",
       "      <td>0</td>\n",
       "      <td>0</td>\n",
       "      <td>0</td>\n",
       "    </tr>\n",
       "    <tr>\n",
       "      <th>2964</th>\n",
       "      <td>22</td>\n",
       "      <td>1</td>\n",
       "      <td>1</td>\n",
       "      <td>1</td>\n",
       "      <td>7</td>\n",
       "      <td>0</td>\n",
       "      <td>0</td>\n",
       "      <td>0</td>\n",
       "    </tr>\n",
       "    <tr>\n",
       "      <th>2965</th>\n",
       "      <td>23</td>\n",
       "      <td>1</td>\n",
       "      <td>0</td>\n",
       "      <td>0</td>\n",
       "      <td>8</td>\n",
       "      <td>0</td>\n",
       "      <td>0</td>\n",
       "      <td>1</td>\n",
       "    </tr>\n",
       "  </tbody>\n",
       "</table>\n",
       "<p>2966 rows × 8 columns</p>\n",
       "</div>"
      ],
      "text/plain": [
       "      Age  Gender  Stream  Internships  CGPA  Hostel  HistoryOfBacklogs  \\\n",
       "0      22       1       3            1     8       1                  1   \n",
       "1      21       0       1            0     7       1                  1   \n",
       "2      22       0       4            1     6       0                  0   \n",
       "3      21       1       4            0     8       0                  1   \n",
       "4      22       1       5            0     8       1                  0   \n",
       "...   ...     ...     ...          ...   ...     ...                ...   \n",
       "2961   23       1       4            0     7       0                  0   \n",
       "2962   23       1       5            1     7       1                  0   \n",
       "2963   22       1       4            1     7       0                  0   \n",
       "2964   22       1       1            1     7       0                  0   \n",
       "2965   23       1       0            0     8       0                  0   \n",
       "\n",
       "      PlacedOrNot  \n",
       "0               1  \n",
       "1               1  \n",
       "2               1  \n",
       "3               1  \n",
       "4               1  \n",
       "...           ...  \n",
       "2961            0  \n",
       "2962            0  \n",
       "2963            0  \n",
       "2964            0  \n",
       "2965            1  \n",
       "\n",
       "[2966 rows x 8 columns]"
      ]
     },
     "execution_count": 38,
     "metadata": {},
     "output_type": "execute_result"
    }
   ],
   "source": [
    "df"
   ]
  },
  {
   "cell_type": "code",
   "execution_count": 39,
   "id": "5d5395f8-63f4-42cb-84f7-6194e3f773f3",
   "metadata": {},
   "outputs": [],
   "source": [
    "#yapmış olduğumuz modele öğrenci bilgilerini göndererek öğrencinin yerleşip yerleşmeme tahminini inceleyelim"
   ]
  },
  {
   "cell_type": "code",
   "execution_count": 40,
   "id": "939c361c-14d9-4ef4-80b2-0a0e90f37649",
   "metadata": {},
   "outputs": [
    {
     "data": {
      "text/plain": [
       "Index(['Age', 'Gender', 'Stream', 'Internships', 'CGPA', 'Hostel',\n",
       "       'HistoryOfBacklogs'],\n",
       "      dtype='object')"
      ]
     },
     "execution_count": 40,
     "metadata": {},
     "output_type": "execute_result"
    }
   ],
   "source": [
    "Age = pd.Series([22,23,27,21,23])\n",
    "Gender = pd.Series([1, 1, 1, 0, 1])\n",
    "Stream = pd.Series([3, 4, 5, 2, 1])\n",
    "Internships = pd.Series([1,0,3,0,1])\n",
    "CGPA = pd.Series([8,7,8,7,8])\n",
    "Hostel = pd.Series([1,0,1,0,1])\n",
    "HistoryOfBacklogs = pd.Series([1,0,0,1,1])\n",
    "\n",
    "\n",
    "ogrenciler = pd.DataFrame({\n",
    "    'Age':Age,\n",
    "    'Gender': Gender,\n",
    "    'Stream': Stream,\n",
    "    'Internships': Internships ,\n",
    "    'CGPA': CGPA,\n",
    "    'Hostel': Hostel,\n",
    "    'HistoryOfBacklogs': HistoryOfBacklogs})\n",
    "\n",
    "ogrenciler.columns"
   ]
  },
  {
   "cell_type": "code",
   "execution_count": 41,
   "id": "91107e5d-5271-4b72-a781-02313a27816d",
   "metadata": {},
   "outputs": [
    {
     "data": {
      "text/html": [
       "<div>\n",
       "<style scoped>\n",
       "    .dataframe tbody tr th:only-of-type {\n",
       "        vertical-align: middle;\n",
       "    }\n",
       "\n",
       "    .dataframe tbody tr th {\n",
       "        vertical-align: top;\n",
       "    }\n",
       "\n",
       "    .dataframe thead th {\n",
       "        text-align: right;\n",
       "    }\n",
       "</style>\n",
       "<table border=\"1\" class=\"dataframe\">\n",
       "  <thead>\n",
       "    <tr style=\"text-align: right;\">\n",
       "      <th></th>\n",
       "      <th>Age</th>\n",
       "      <th>Gender</th>\n",
       "      <th>Stream</th>\n",
       "      <th>Internships</th>\n",
       "      <th>CGPA</th>\n",
       "      <th>Hostel</th>\n",
       "      <th>HistoryOfBacklogs</th>\n",
       "    </tr>\n",
       "  </thead>\n",
       "  <tbody>\n",
       "    <tr>\n",
       "      <th>0</th>\n",
       "      <td>22</td>\n",
       "      <td>1</td>\n",
       "      <td>3</td>\n",
       "      <td>1</td>\n",
       "      <td>8</td>\n",
       "      <td>1</td>\n",
       "      <td>1</td>\n",
       "    </tr>\n",
       "    <tr>\n",
       "      <th>1</th>\n",
       "      <td>23</td>\n",
       "      <td>1</td>\n",
       "      <td>4</td>\n",
       "      <td>0</td>\n",
       "      <td>7</td>\n",
       "      <td>0</td>\n",
       "      <td>0</td>\n",
       "    </tr>\n",
       "    <tr>\n",
       "      <th>2</th>\n",
       "      <td>27</td>\n",
       "      <td>1</td>\n",
       "      <td>5</td>\n",
       "      <td>3</td>\n",
       "      <td>8</td>\n",
       "      <td>1</td>\n",
       "      <td>0</td>\n",
       "    </tr>\n",
       "    <tr>\n",
       "      <th>3</th>\n",
       "      <td>21</td>\n",
       "      <td>0</td>\n",
       "      <td>2</td>\n",
       "      <td>0</td>\n",
       "      <td>7</td>\n",
       "      <td>0</td>\n",
       "      <td>1</td>\n",
       "    </tr>\n",
       "    <tr>\n",
       "      <th>4</th>\n",
       "      <td>23</td>\n",
       "      <td>1</td>\n",
       "      <td>1</td>\n",
       "      <td>1</td>\n",
       "      <td>8</td>\n",
       "      <td>1</td>\n",
       "      <td>1</td>\n",
       "    </tr>\n",
       "  </tbody>\n",
       "</table>\n",
       "</div>"
      ],
      "text/plain": [
       "   Age  Gender  Stream  Internships  CGPA  Hostel  HistoryOfBacklogs\n",
       "0   22       1       3            1     8       1                  1\n",
       "1   23       1       4            0     7       0                  0\n",
       "2   27       1       5            3     8       1                  0\n",
       "3   21       0       2            0     7       0                  1\n",
       "4   23       1       1            1     8       1                  1"
      ]
     },
     "execution_count": 41,
     "metadata": {},
     "output_type": "execute_result"
    }
   ],
   "source": [
    "ogrenciler"
   ]
  },
  {
   "cell_type": "code",
   "execution_count": 42,
   "id": "2f1d5365-0390-4b1f-9919-26710dd61cd4",
   "metadata": {},
   "outputs": [],
   "source": [
    "y_pred1 = lgbm_tuned.predict(ogrenciler)"
   ]
  },
  {
   "cell_type": "code",
   "execution_count": 43,
   "id": "18feaa57-4c1b-4949-9ea9-71465d708d09",
   "metadata": {},
   "outputs": [
    {
     "data": {
      "text/plain": [
       "array([1, 0, 1, 0, 1], dtype=int64)"
      ]
     },
     "execution_count": 43,
     "metadata": {},
     "output_type": "execute_result"
    }
   ],
   "source": [
    "y_pred1"
   ]
  },
  {
   "cell_type": "code",
   "execution_count": 46,
   "id": "760802ba-e140-44cc-889d-d7550b54125a",
   "metadata": {},
   "outputs": [
    {
     "name": "stdout",
     "output_type": "stream",
     "text": [
      "Test verileri için f1 puanı: 0.875\n"
     ]
    },
    {
     "data": {
      "image/png": "[encoded data removed]",
      "text/plain": [
       "<Figure size 432x432 with 1 Axes>"
      ]
     },
     "metadata": {},
     "output_type": "display_data"
    }
   ],
   "source": [
    "from sklearn.metrics import f1_score, accuracy_score, confusion_matrix\n",
    "def conf_matrix(y_test, y_pred):    \n",
    "    \n",
    "    # Karışıklık matrisi oluşturma\n",
    "    con_mat = confusion_matrix(y_test, y_pred)\n",
    "    con_mat = pd.DataFrame(con_mat, range(2), range(2))\n",
    "   \n",
    "    #Karışıklık matrisini çizme\n",
    "    plt.figure(figsize=(6,6))\n",
    "    sns.set(font_scale=1.5) \n",
    "    sns.heatmap(con_mat, annot=True, annot_kws={\"size\": 16}, fmt='g', cmap='Blues', cbar=False)\n",
    "f1_test = f1_score(y_test, y_pred)\n",
    "print('Test verileri için f1 puanı:', f1_test)    \n",
    "#Calling function \n",
    "conf_matrix(y_test, y_pred)"
   ]
  },
  {
   "cell_type": "code",
   "execution_count": 47,
   "id": "6f50cf07-400c-4e8f-bcef-edad8496bd42",
   "metadata": {},
   "outputs": [
    {
     "name": "stdout",
     "output_type": "stream",
     "text": [
      "              precision    recall  f1-score   support\n",
      "\n",
      "           0       0.83      0.93      0.88       280\n",
      "           1       0.93      0.82      0.88       314\n",
      "\n",
      "    accuracy                           0.88       594\n",
      "   macro avg       0.88      0.88      0.88       594\n",
      "weighted avg       0.88      0.88      0.88       594\n",
      "\n"
     ]
    }
   ],
   "source": [
    "#f1 score = 2*(precision*recall)/(precision+recall)\n",
    "print(classification_report(y_test, y_pred))"
   ]
  },
  {
   "cell_type": "code",
   "execution_count": 48,
   "id": "83047884-2a78-480c-9cc3-be716bb695e0",
   "metadata": {},
   "outputs": [],
   "source": [
    "#Bu sefer LogisticRegression ile bir model daha kuralım\n",
    "y = df[\"PlacedOrNot\"]\n",
    "X = df.drop(['PlacedOrNot'], axis=1)\n",
    "X = pd.DataFrame(X)\n",
    "X_train, X_test, y_train, y_test = train_test_split(X, y, \n",
    "                                                    test_size=0.20, \n",
    "                                                    random_state=42)"
   ]
  },
  {
   "cell_type": "code",
   "execution_count": 49,
   "id": "0c7e8608-2660-48f9-b9fb-ab27f70eb68a",
   "metadata": {},
   "outputs": [
    {
     "name": "stdout",
     "output_type": "stream",
     "text": [
      "Test verileri için f1 puanı: 0.7401574803149605\n"
     ]
    },
    {
     "data": {
      "image/png": "[encoded data removed]",
      "text/plain": [
       "<Figure size 432x432 with 1 Axes>"
      ]
     },
     "metadata": {},
     "output_type": "display_data"
    }
   ],
   "source": [
    "from sklearn.metrics import f1_score, accuracy_score, confusion_matrix\n",
    "\n",
    "from sklearn.linear_model import LogisticRegression\n",
    "lr = LogisticRegression(solver='newton-cg')\n",
    "lr.fit(X_train, y_train)\n",
    "\n",
    "# Test verilerini tahmin etme\n",
    "pred_test = lr.predict(X_test)\n",
    "\n",
    "#f1 puanının hesaplanması ve yazdırılması \n",
    "f1_test = f1_score(y_test, pred_test)\n",
    "print('Test verileri için f1 puanı:', f1_test)\n",
    "\n",
    "# Karışıklık matrisi oluşturma işlevi \n",
    "def conf_matrix(y_test, pred_test):    \n",
    "    \n",
    "    # Karışıklık matrisi oluşturma\n",
    "    con_mat = confusion_matrix(y_test, pred_test)\n",
    "    con_mat = pd.DataFrame(con_mat, range(2), range(2))\n",
    "   \n",
    "    #Karışıklık matrisini çizme\n",
    "    plt.figure(figsize=(6,6))\n",
    "    sns.set(font_scale=1.5) \n",
    "    sns.heatmap(con_mat, annot=True, annot_kws={\"size\": 16}, fmt='g', cmap='Blues', cbar=False)\n",
    "    \n",
    "#Calling function \n",
    "conf_matrix(y_test, pred_test)"
   ]
  },
  {
   "cell_type": "code",
   "execution_count": 50,
   "id": "1956c839-bf76-4f56-9933-3756f329116a",
   "metadata": {},
   "outputs": [
    {
     "name": "stdout",
     "output_type": "stream",
     "text": [
      "Test verileri için f1 puanı: 0.7438825448613378\n"
     ]
    },
    {
     "data": {
      "image/png": "[encoded data removed]",
      "text/plain": [
       "<Figure size 432x432 with 1 Axes>"
      ]
     },
     "metadata": {},
     "output_type": "display_data"
    }
   ],
   "source": [
    "#modeli içe aktarma ve eğitme\n",
    "from sklearn.linear_model import LogisticRegression\n",
    "lr = LogisticRegression(solver='newton-cg', class_weight='balanced')\n",
    "lr.fit(X_train, y_train)\n",
    "\n",
    "# Test verilerini tahmin etme\n",
    "pred_test = lr.predict(X_test)\n",
    "\n",
    "#f1 puanının hesaplanması ve yazdırılması \n",
    "f1_test = f1_score(y_test, pred_test)\n",
    "print('Test verileri için f1 puanı:', f1_test)\n",
    "\n",
    "#Karışıklık matrisini çizme\n",
    "conf_matrix(y_test, pred_test)\n",
    "#class weight ayarı yaptığımız için f1 skorumuz biraz daha iyileşmiş oldu"
   ]
  },
  {
   "cell_type": "code",
   "execution_count": 52,
   "id": "4b08c156-c8cc-416d-90b1-e59cbb81d1e4",
   "metadata": {},
   "outputs": [
    {
     "name": "stdout",
     "output_type": "stream",
     "text": [
      "              precision    recall  f1-score   support\n",
      "\n",
      "           0       0.71      0.75      0.73       280\n",
      "           1       0.76      0.73      0.74       314\n",
      "\n",
      "    accuracy                           0.74       594\n",
      "   macro avg       0.74      0.74      0.74       594\n",
      "weighted avg       0.74      0.74      0.74       594\n",
      "\n"
     ]
    }
   ],
   "source": [
    "#f1 score = 2*(precision*recall)/(precision+recall)\n",
    "print(classification_report(y_test, pred_test))"
   ]
  },
  {
   "cell_type": "code",
   "execution_count": null,
   "id": "d202d732-1a90-451d-a2cd-7f8f2ff99a05",
   "metadata": {},
   "outputs": [],
   "source": []
  }
 ],
 "metadata": {
  "kernelspec": {
   "display_name": "Python 3",
   "language": "python",
   "name": "python3"
  },
  "language_info": {
   "codemirror_mode": {
    "name": "ipython",
    "version": 3
   },
   "file_extension": ".py",
   "mimetype": "text/x-python",
   "name": "python",
   "nbconvert_exporter": "python",
   "pygments_lexer": "ipython3",
   "version": "3.8.8"
  }
 },
 "nbformat": 4,
 "nbformat_minor": 5
}
